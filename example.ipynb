{
 "cells": [
  {
   "cell_type": "markdown",
   "metadata": {},
   "source": [
    "# Extracting features from the NeuroML-DB models"
   ]
  },
  {
   "cell_type": "code",
   "execution_count": 1,
   "metadata": {},
   "outputs": [],
   "source": [
    "import os\n",
    "import glob\n",
    "import pickle\n",
    "import numpy as np\n",
    "import sciunit"
   ]
  },
  {
   "cell_type": "markdown",
   "metadata": {},
   "source": [
    "### Load model IDs"
   ]
  },
  {
   "cell_type": "code",
   "execution_count": 2,
   "metadata": {},
   "outputs": [
    {
     "data": {
      "text/plain": [
       "['NMLCL000373', 'NMLCL000101', 'NMLCL000873', 'NMLCL000701', 'NMLCL000501']"
      ]
     },
     "execution_count": 2,
     "metadata": {},
     "output_type": "execute_result"
    }
   ],
   "source": [
    "# Get file path to pickled files containing NeuroML-DB IDs\n",
    "model_id_file_paths = glob.glob(\"cortical_NML_IDs/*.p\")\n",
    "\n",
    "# Get that model list (done in `get_allen_features_from_nml_db.analyze_models_from_cache`)\n",
    "models = []\n",
    "for f in model_id_file_paths:\n",
    "    models.append(pickle.load(open(f,'rb')))\n",
    "    \n",
    "# For example, here are 5 of the loaded model IDs\n",
    "models[0]['markram'][0][:5]"
   ]
  },
  {
   "cell_type": "markdown",
   "metadata": {},
   "source": [
    "### Load models from NeuroML-DB and cache them on disk"
   ]
  },
  {
   "cell_type": "markdown",
   "metadata": {},
   "source": [
    "The function `get_allen_features_from_nml_db.faster_make_model_and_cache()` can load the models from the database, extract the appropriate waveforms, and then cache the results.  It does so by first using `get_alen_features_from_nml_db.mid_to_model`, which extract and caches one whole model instance."
   ]
  },
  {
   "cell_type": "code",
   "execution_count": 3,
   "metadata": {},
   "outputs": [],
   "source": [
    "# Use one model as an example\n",
    "model_id = models[0]['markram'][0][:5][0]"
   ]
  },
  {
   "cell_type": "code",
   "execution_count": 4,
   "metadata": {},
   "outputs": [
    {
     "name": "stdout",
     "output_type": "stream",
     "text": [
      "Could not load NEURONBackend\n"
     ]
    }
   ],
   "source": [
    "from get_allen_features_from_nml_db import get_static_models, mid_to_model\n",
    "\n",
    "# Here is one model instance\n",
    "model = get_static_models(model_id)\n",
    "\n",
    "# Or just load the model and pickle it\n",
    "os.makedirs('models', exist_ok=True)\n",
    "mid_to_model(model_id)\n",
    "\n",
    "# Now there is a model pickle file in the `models` directory\n",
    "assert os.path.exists('models/%s.p' % model_id)"
   ]
  },
  {
   "cell_type": "markdown",
   "metadata": {},
   "source": [
    "### Extract features from cached models"
   ]
  },
  {
   "cell_type": "markdown",
   "metadata": {},
   "source": [
    "The function `get_allen_features_from_nml_db.analyze_models_from_cache` does all this in parallel so it should be used to speed things up.  Ultimately it calls `get_allen_features_from_nml_db.model_analysis` on each model, which uses `get_allen_features_from_nml_db.three_feature_sets_on_static_models` and then saves the results."
   ]
  },
  {
   "cell_type": "code",
   "execution_count": 5,
   "metadata": {},
   "outputs": [],
   "source": [
    "# Get file paths to pickled files containing the models that we loaded above\n",
    "model_file_paths = glob.glob(\"models/*.p\")"
   ]
  },
  {
   "cell_type": "code",
   "execution_count": 6,
   "metadata": {},
   "outputs": [],
   "source": [
    "# Unpickle one model from that list of file paths\n",
    "with open(model_file_paths[0], 'rb') as f:\n",
    "    model = pickle.load(f)\n",
    "\n",
    "# It should be a SciUnit model\n",
    "assert isinstance(model, sciunit.Model)"
   ]
  }
 ],
 "metadata": {
  "kernelspec": {
   "display_name": "Python 3",
   "language": "python",
   "name": "python3"
  },
  "language_info": {
   "codemirror_mode": {
    "name": "ipython",
    "version": 3
   },
   "file_extension": ".py",
   "mimetype": "text/x-python",
   "name": "python",
   "nbconvert_exporter": "python",
   "pygments_lexer": "ipython3",
   "version": "3.6.8"
  }
 },
 "nbformat": 4,
 "nbformat_minor": 2
}
